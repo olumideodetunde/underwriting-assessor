{
 "cells": [
  {
   "metadata": {},
   "cell_type": "markdown",
   "source": "# Feature Engineering with information available at initial quote request",
   "id": "9ef9740ae51954a5"
  },
  {
   "metadata": {},
   "cell_type": "markdown",
   "source": [
    "- The goal of this notebook is to engineer features from variables of dataset that have been obtained by an underwriter(s) at the first contact (initial insurance quote request).These features can be used for risk classification or technical premium calculation. The variables that we will be working with include:\n",
    "    - `ID`: Unique identifier for each policyholder\n",
    "    - `Distribution_channel`: Classifies the channel through which the policy was contracted. 0 for Agent and 1 for Insurance brokers.\n",
    "    - `Date_birth`: Date of birth of the insured declared in the policy (DD/MM/YYYY)\n",
    "    - `Date_driving_licence`: Date of issuance of the insured person's driver's license (DD/MM/YYYY)\n",
    "    - `Premium`: Net premium amount associated with the policy during the current year\n",
    "    - `Type_risk`: Type of risk associated with the policy. Each value corresponds to a specific risk type: 1 for motorbikes, 2 for vans, 3 for passenger cars and 4 for agricultural vehicles\n",
    "    - `Area`: Dichotomous variable indicates the area. 0 for rural and 1 for urban (more than 30,000 inhabitants) in terms of traffic conditions.\n",
    "    - `Second_driver`: 1 if there are multiple regular drivers declared, or 0 if only one driver is declared\n",
    "    - `Year_matriculation`: Year of registration of the vehicle (YYYY)\n",
    "    - `Power`: Vehicle power measured in horsepower\n",
    "    - `Cylinder_capacity`: Cylinder capacity of the vehicle\n",
    "    - `Value_vehicle`: Market value of the vehicle on 31/12/2019\n",
    "    - `N_doors`: Number of vehicle doors\n",
    "    - `Type_fuel`: Specific kind of energy source used to power a vehicle. Petrol (P) or Diesel (D)\n",
    "    - `Length`: Length, in meters, of the vehicle\n",
    "    - `Weight`: Weight, in kilograms, of the vehicle\n"
   ],
   "id": "45c129876b5ef62a",
   "attachments": {
    "03f05b3a-619b-4809-a81d-6e2add1a56db.png": {
     "image/png": "[encoded data removed]"
    },
    "133cb036-b3f6-490a-a94d-bb384782ca8f.png": {
     "image/png": "[encoded data removed]"
    }
   }
  },
  {
   "metadata": {},
   "cell_type": "markdown",
   "source": "## 001: Create the dataset and split dataset",
   "id": "effd865f3fa8ffcb"
  },
  {
   "metadata": {
    "ExecuteTime": {
     "end_time": "2025-08-30T14:58:18.825649Z",
     "start_time": "2025-08-30T14:58:18.674055Z"
    }
   },
   "cell_type": "code",
   "source": [
    "import pandas as pd\n",
    "from src.dataset import Dataset\n",
    "\n",
    "insurance_initiation_variables_path = \"../data/input/exp/Insurance_Initiation_Variables.csv\"\n",
    "claims_variables_path = \"../data/input/exp/sample_type_claim.csv\"\n",
    "\n",
    "claim_grouping_columns = ['ID', 'Cost_claims_year']\n",
    "claim_aggregation_column = 'Cost_claims_by_type'\n",
    "merging_columns = ['ID', 'Cost_claims_year']\n",
    "\n",
    "dataset =  (Dataset(data_path=insurance_initiation_variables_path,\n",
    "                              claims_path=claims_variables_path)\n",
    "                      .group_claims(grouping_columns=claim_grouping_columns,aggregation_column=claim_aggregation_column)\n",
    "                      .create_dataset(merge_columns=merging_columns)\n",
    "                     )\n",
    "trainset, testset = dataset.split_dataset(test_ratio=0.2, to_shuffle=False)"
   ],
   "id": "50d0f6b503cca83c",
   "outputs": [],
   "execution_count": 69
  },
  {
   "metadata": {},
   "cell_type": "markdown",
   "source": "## 002: Research and engineer baseline relevant features",
   "id": "9515d0563e08805e"
  },
  {
   "metadata": {},
   "cell_type": "markdown",
   "source": [
    "While there are now advancement in the motor insurance sector that enables using telematic data points, I will be exploring traditional features in this segment mostly based on domain knowledge [some capture here](https://www.researchgate.net/publication/338007809_An_Analysis_of_the_Risk_Factors_Determining_Motor_Insurance_Premium_in_a_Small_Island_State_The_Case_of_Malta). Some key ones that align with this dataset include\n",
    "\n",
    "- Type of Vehicle: `Exists in the dataset`\n",
    "- Value of the vehicle : `Exists in the dataset`\n",
    "- Age of the driver : `To be Engineered`\n",
    "- Vehicle technology equipment : `To be Engineered (easy proxy could be age of vehicle to imply that newer vehicles have more sophisticated technology)`\n",
    "- Geographic location  : `Exist in the dataset`\n",
    "- Repair cost of the vehicle: `Close proxy is the value of the vehicle`\n",
    "- Occupation of the driver: `Not captured in dataset`\n",
    "- Medical condition of the driver: `Not captured in dataset`\n",
    "- Recent performance vehicle modifications (power-to-weight ratio, brake horsepower, etc.) : `To be Engineered`"
   ],
   "id": "181127620eeba22a"
  },
  {
   "metadata": {},
   "cell_type": "markdown",
   "source": "## 003: Implement baseline features tagged `To Be Engineered`",
   "id": "29391b22b79f08e7"
  },
  {
   "metadata": {
    "ExecuteTime": {
     "end_time": "2025-08-30T17:36:11.704737Z",
     "start_time": "2025-08-30T17:36:11.694646Z"
    }
   },
   "cell_type": "code",
   "source": [
    "from datetime import datetime\n",
    "from typing import Any\n",
    "import numpy as np\n",
    "\n",
    "def convert_to_datetime(value:object, format:str=\"%d/%m/%Y\", yearfirst:bool=True) -> Any:\n",
    "    return pd.to_datetime(arg=value, format=format, yearfirst=yearfirst)\n",
    "\n",
    "def take_datetime_difference_in_years(first_datetime:datetime, second_datetime:datetime, interval) -> float:\n",
    "    diff = (second_datetime - first_datetime) / np.timedelta64(1, interval)\n",
    "    diff_years = diff/365.25\n",
    "    return diff_years\n",
    "\n",
    "def take_int_difference(first_number:int, second_number:int) -> int:\n",
    "    return abs(first_number - second_number)"
   ],
   "id": "a6f6c54cdc2350ef",
   "outputs": [],
   "execution_count": 100
  },
  {
   "metadata": {
    "ExecuteTime": {
     "end_time": "2025-08-30T17:51:39.031642Z",
     "start_time": "2025-08-30T17:51:33.639110Z"
    }
   },
   "cell_type": "code",
   "source": [
    "today_date = pd.Timestamp.today()\n",
    "today_year = today_date.year\n",
    "features_trainset = (\n",
    "    trainset\n",
    "    .assign(\n",
    "        Date_birth_dt=trainset['Date_birth'].apply(convert_to_datetime),\n",
    "        Date_driving_licence_dt=trainset['Date_driving_licence'].apply(convert_to_datetime),\n",
    "        power_to_weight = trainset['Power'] / trainset['Weight'],\n",
    "        Car_age_years= trainset['Year_matriculation'].apply(take_int_difference, args=(today_year,))\n",
    "\n",
    "    )\n",
    "    .assign(\n",
    "        Driver_age_years=lambda df: df['Date_birth_dt'].apply(take_datetime_difference_in_years, args=(today_date, 'D')),\n",
    "        Driver_experience_years=lambda df: df['Date_driving_licence_dt'].apply(take_datetime_difference_in_years, args=(today_date, 'D')),\n",
    "    )\n",
    ")"
   ],
   "id": "c15f5c90dc6973a5",
   "outputs": [],
   "execution_count": 103
  },
  {
   "metadata": {
    "ExecuteTime": {
     "end_time": "2025-08-30T18:01:07.810567Z",
     "start_time": "2025-08-30T18:01:07.803256Z"
    }
   },
   "cell_type": "code",
   "source": [
    "for i in features_trainset.columns:\n",
    "    print(i)"
   ],
   "id": "6ef33ea1819fb04a",
   "outputs": [
    {
     "name": "stdout",
     "output_type": "stream",
     "text": [
      "ID\n",
      "Date_birth\n",
      "Date_driving_licence\n",
      "Distribution_channel\n",
      "Premium\n",
      "Cost_claims_year\n",
      "Type_risk\n",
      "Area\n",
      "Second_driver\n",
      "Year_matriculation\n",
      "Power\n",
      "Cylinder_capacity\n",
      "Value_vehicle\n",
      "N_doors\n",
      "Type_fuel\n",
      "Length\n",
      "Weight\n",
      "claims_frequency\n",
      "Date_birth_dt\n",
      "Date_driving_licence_dt\n",
      "power_to_weight\n",
      "Car_age_years\n",
      "Driver_age_years\n",
      "Driver_experience_years\n"
     ]
    }
   ],
   "execution_count": 106
  },
  {
   "metadata": {},
   "cell_type": "markdown",
   "source": [
    "At the end of engineering on the features on the trainset, we now have the following variables in our dataset\n",
    "- ID\n",
    "- Date_birth\n",
    "- Date_driving_licence\n",
    "- Distribution_channel\n",
    "- Premium\n",
    "- Cost_claims_year\n",
    "- Type_risk\n",
    "- Area\n",
    "- Second_driver\n",
    "- Year_matriculation\n",
    "- Power\n",
    "- Cylinder_capacity\n",
    "- Value_vehicle\n",
    "- N_doors\n",
    "- Type_fuel\n",
    "- Length\n",
    "- Weight\n",
    "- claims_frequency\n",
    "- Date_birth_dt\n",
    "- Date_driving_licence_dt\n",
    "- power_to_weight\n",
    "- Car_age_years\n",
    "- Driver_age_years\n",
    "- Driver_experience_years\n",
    "For all intent and purposes, the premium, cost_claims_year and claims frequency are potential target variables\n",
    "\n"
   ],
   "id": "3a1fb377cf316901"
  },
  {
   "metadata": {},
   "cell_type": "markdown",
   "source": "## 04: Exploring engineered features",
   "id": "7c2f6617e9e08df7"
  },
  {
   "metadata": {
    "ExecuteTime": {
     "end_time": "2025-08-30T18:03:58.465930Z",
     "start_time": "2025-08-30T18:03:58.460367Z"
    }
   },
   "cell_type": "code",
   "source": [
    "#TODO\n",
    "# Univariate Analysis\n",
    "# Bivariate Analysis\n",
    "# Exploratory"
   ],
   "id": "d6c22f814a001453",
   "outputs": [],
   "execution_count": 107
  },
  {
   "metadata": {},
   "cell_type": "code",
   "outputs": [],
   "execution_count": null,
   "source": "",
   "id": "70cc33227c1368ed"
  }
 ],
 "metadata": {
  "kernelspec": {
   "name": "python3",
   "language": "python",
   "display_name": "Python 3 (ipykernel)"
  }
 },
 "nbformat": 4,
 "nbformat_minor": 5
}
