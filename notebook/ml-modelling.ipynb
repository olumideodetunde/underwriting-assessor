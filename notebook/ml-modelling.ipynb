{
 "cells": [
  {
   "cell_type": "markdown",
   "metadata": {},
   "source": "# Modelling"
  },
  {
   "cell_type": "markdown",
   "metadata": {},
   "source": [
    "- Let's attempt to build a frequency vs severity model using both GLM and GBM. Remember that technically `premium = frequency * severity`\n",
    "- Bonus: see if along the way we can use the variable importance to identify key rating factors for both frequency and severity that can be used for risk classification"
   ]
  },
  {
   "cell_type": "markdown",
   "metadata": {},
   "source": "## 001: Create the dataset and split dataset"
  },
  {
   "metadata": {
    "ExecuteTime": {
     "end_time": "2025-09-08T19:33:17.855480Z",
     "start_time": "2025-09-08T19:33:17.569116Z"
    }
   },
   "cell_type": "code",
   "source": [
    "import pandas as pd\n",
    "from src.dataset import Dataset\n",
    "\n",
    "\n",
    "insurance_initiation_variables_path = \"../data/input/exp/Insurance_Initiation_Variables.csv\"\n",
    "claims_variables_path = \"../data/input/exp/sample_type_claim.csv\"\n",
    "\n",
    "claim_grouping_columns = ['ID', 'Cost_claims_year']\n",
    "claim_aggregation_column = 'Cost_claims_by_type'\n",
    "merging_columns = ['ID', 'Cost_claims_year']\n",
    "\n",
    "dataset =  (Dataset(data_path=insurance_initiation_variables_path,\n",
    "                              claims_path=claims_variables_path)\n",
    "                      .group_claims(grouping_columns=claim_grouping_columns,aggregation_column=claim_aggregation_column)\n",
    "                      .create_dataset(merge_columns=merging_columns)\n",
    "                     )\n",
    "trainset, testset = dataset.split_dataset(test_ratio=0.2, to_shuffle=False)"
   ],
   "outputs": [],
   "execution_count": 1
  },
  {
   "metadata": {
    "ExecuteTime": {
     "end_time": "2025-09-08T19:34:51.936525Z",
     "start_time": "2025-09-08T19:34:51.933596Z"
    }
   },
   "cell_type": "markdown",
   "source": "## 002: Engineer relevant features"
  },
  {
   "metadata": {
    "ExecuteTime": {
     "end_time": "2025-09-08T19:40:51.753447Z",
     "start_time": "2025-09-08T19:40:45.460663Z"
    }
   },
   "cell_type": "code",
   "source": [
    "from src.feature import  main as feature_main\n",
    "\n",
    "features_trainset = feature_main(trainset)\n",
    "features_testset = feature_main(testset)"
   ],
   "outputs": [],
   "execution_count": 5
  },
  {
   "metadata": {},
   "cell_type": "markdown",
   "source": "#TODO - ## 003: Frequency modelling - Poisson regression"
  },
  {
   "metadata": {},
   "cell_type": "code",
   "outputs": [],
   "execution_count": null,
   "source": ""
  },
  {
   "metadata": {},
   "cell_type": "code",
   "outputs": [],
   "execution_count": null,
   "source": ""
  },
  {
   "metadata": {},
   "cell_type": "code",
   "outputs": [],
   "execution_count": null,
   "source": ""
  },
  {
   "metadata": {},
   "cell_type": "code",
   "outputs": [],
   "execution_count": null,
   "source": ""
  },
  {
   "metadata": {},
   "cell_type": "code",
   "outputs": [],
   "execution_count": null,
   "source": ""
  },
  {
   "metadata": {},
   "cell_type": "code",
   "outputs": [],
   "execution_count": null,
   "source": ""
  },
  {
   "metadata": {},
   "cell_type": "code",
   "outputs": [],
   "execution_count": null,
   "source": ""
  },
  {
   "metadata": {},
   "cell_type": "code",
   "outputs": [],
   "execution_count": null,
   "source": ""
  },
  {
   "metadata": {},
   "cell_type": "code",
   "outputs": [],
   "execution_count": null,
   "source": ""
  },
  {
   "metadata": {},
   "cell_type": "code",
   "outputs": [],
   "execution_count": null,
   "source": ""
  },
  {
   "metadata": {},
   "cell_type": "markdown",
   "source": "## Poisson Model - Shall we fit one?"
  },
  {
   "metadata": {},
   "cell_type": "code",
   "outputs": [],
   "execution_count": 10,
   "source": [
    "X = train_dev[['Type_risk', 'age_band', 'policy_length', 'Seniority', \"Second_driver\",\n",
    "               \"R_Claims_history\", \"N_claims_year\", \"N_claims_history\", ]]\n",
    "y = train_dev[['claims_frequency']]"
   ]
  },
  {
   "metadata": {},
   "cell_type": "code",
   "outputs": [
    {
     "name": "stdout",
     "output_type": "stream",
     "text": [
      "                    GeneralizedPoisson Regression Results                     \n",
      "==============================================================================\n",
      "Dep. Variable:       claims_frequency   No. Observations:               100277\n",
      "Model:             GeneralizedPoisson   Df Residuals:                   100269\n",
      "Method:                           MLE   Df Model:                            7\n",
      "Date:                Mon, 14 Jul 2025   Pseudo R-squ.:                  0.7234\n",
      "Time:                        21:06:04   Log-Likelihood:                -25611.\n",
      "converged:                      False   LL-Null:                       -92591.\n",
      "Covariance Type:            nonrobust   LLR p-value:                     0.000\n",
      "====================================================================================\n",
      "                       coef    std err          z      P>|z|      [0.025      0.975]\n",
      "------------------------------------------------------------------------------------\n",
      "Type_risk            0.2468      0.028      8.862      0.000       0.192       0.301\n",
      "age_band            -0.1560      0.037     -4.192      0.000      -0.229      -0.083\n",
      "policy_length       -0.0100      0.000    -40.979      0.000      -0.011      -0.010\n",
      "Seniority           -0.0230      0.003     -6.745      0.000      -0.030      -0.016\n",
      "Second_driver       -0.0746      0.036     -2.094      0.036      -0.144      -0.005\n",
      "R_Claims_history     0.1687      0.002    106.109      0.000       0.166       0.172\n",
      "N_claims_year        0.3234      0.005     64.942      0.000       0.314       0.333\n",
      "N_claims_history    -0.0540      0.003    -19.546      0.000      -0.059      -0.049\n",
      "alpha               -0.1029      0.002    -50.571      0.000      -0.107      -0.099\n",
      "====================================================================================\n"
     ]
    }
   ],
   "execution_count": 11,
   "source": [
    "general_model =  GeneralizedPoisson(endog = y , exog = X, p=2).fit(method='nm')\n",
    "print(general_model.summary())"
   ]
  }
 ],
 "metadata": {
  "kernelspec": {
   "display_name": ".venv",
   "language": "python",
   "name": "python3"
  },
  "language_info": {
   "codemirror_mode": {
    "name": "ipython",
    "version": 3
   },
   "file_extension": ".py",
   "mimetype": "text/x-python",
   "name": "python",
   "nbconvert_exporter": "python",
   "pygments_lexer": "ipython3",
   "version": "3.13.0"
  }
 },
 "nbformat": 4,
 "nbformat_minor": 2
}
