{
 "cells": [
  {
   "cell_type": "markdown",
   "metadata": {},
   "source": "# Modelling"
  },
  {
   "cell_type": "markdown",
   "metadata": {},
   "source": [
    "- Let's attempt to build a frequency vs severity model using both GLM and GBM. Remember that technically `premium = frequency * severity`\n",
    "- Bonus: see if along the way we can use the variable importance to identify key rating factors for both frequency and severity that can be used for risk classification"
   ]
  },
  {
   "cell_type": "markdown",
   "metadata": {},
   "source": "## 001: Create the dataset and split dataset"
  },
  {
   "metadata": {
    "ExecuteTime": {
     "end_time": "2025-09-16T21:12:28.435290Z",
     "start_time": "2025-09-16T21:12:27.240739Z"
    }
   },
   "cell_type": "code",
   "source": [
    "from src.dataset import Dataset\n",
    "\n",
    "\n",
    "insurance_initiation_variables_path = \"../data/input/exp/Insurance_Initiation_Variables.csv\"\n",
    "claims_variables_path = \"../data/input/exp/sample_type_claim.csv\"\n",
    "\n",
    "claim_grouping_columns = ['ID', 'Cost_claims_year']\n",
    "claim_aggregation_column = 'Cost_claims_by_type'\n",
    "merging_columns = ['ID', 'Cost_claims_year']\n",
    "\n",
    "dataset =  (Dataset(data_path=insurance_initiation_variables_path,\n",
    "                              claims_path=claims_variables_path)\n",
    "                      .group_claims(grouping_columns=claim_grouping_columns,aggregation_column=claim_aggregation_column)\n",
    "                      .create_dataset(merge_columns=merging_columns)\n",
    "                     )\n",
    "trainset, testset = dataset.split_dataset(test_ratio=0.2, to_shuffle=False)"
   ],
   "outputs": [],
   "execution_count": 1
  },
  {
   "metadata": {
    "ExecuteTime": {
     "end_time": "2025-09-08T19:34:51.936525Z",
     "start_time": "2025-09-08T19:34:51.933596Z"
    }
   },
   "cell_type": "markdown",
   "source": "## 002: Engineer relevant features"
  },
  {
   "metadata": {
    "ExecuteTime": {
     "end_time": "2025-09-16T21:12:35.496126Z",
     "start_time": "2025-09-16T21:12:29.455946Z"
    }
   },
   "cell_type": "code",
   "source": [
    "from src.feature import  main as feature_main\n",
    "\n",
    "features_trainset = feature_main(trainset)\n",
    "features_testset = feature_main(testset)"
   ],
   "outputs": [],
   "execution_count": 2
  },
  {
   "metadata": {
    "ExecuteTime": {
     "end_time": "2025-09-16T21:12:36.066989Z",
     "start_time": "2025-09-16T21:12:36.060087Z"
    }
   },
   "cell_type": "code",
   "source": [
    "# Fill nulls in claims_frequency with 0 - missed during dataset creation step, to be added later\n",
    "features_trainset.loc[:, 'claims_frequency'] = features_trainset['claims_frequency'].fillna(0)\n",
    "features_testset.loc[:, 'claims_frequency'] = features_testset['claims_frequency'].fillna(0)"
   ],
   "outputs": [],
   "execution_count": 3
  },
  {
   "metadata": {},
   "cell_type": "markdown",
   "source": [
    "## 003: Frequency modelling - Poisson regression\n",
    "\n",
    "The response variable is the number of claims dubbed `claims_frequency` in the dataset. It is important to note that Claims frequency is actually a rate (i.e. it is the claims frequency for a year for each policy-holder). However, since the exposure is constant for all policies in this dataset (1 year), it is an implicit rate.\n",
    "\n",
    "\n",
    "Let's check a few assumptions before we fit a Poisson regression model:\n",
    "1. Distribution of the response variable\n",
    "2. Equidispersion: the mean and variance of the response variable should be roughly equal"
   ]
  },
  {
   "metadata": {
    "ExecuteTime": {
     "end_time": "2025-09-16T21:12:38.410073Z",
     "start_time": "2025-09-16T21:12:37.859233Z"
    }
   },
   "cell_type": "code",
   "source": [
    "import numpy as np\n",
    "import matplotlib.pyplot as plt\n",
    "fig, (ax0, ax1) = plt.subplots(ncols=2, figsize=(15, 5))\n",
    "ax0.set_title('Claims Frequency Distribution')\n",
    "_ = features_trainset['claims_frequency'].hist(bins=4, log=True, ax=ax0)\n",
    "\n",
    "print(\n",
    "    \"Average claims frequency: {}\".format(\n",
    "        np.average(features_trainset['claims_frequency'])\n",
    "    )\n",
    ")\n",
    "\n",
    "print(\n",
    "    \"Fraction of claims frequency that is Zero {0:.2%}\".format(\n",
    "        features_trainset[features_trainset['claims_frequency']==0].__len__() / features_trainset['claims_frequency'].__len__()\n",
    "    )\n",
    ")"
   ],
   "outputs": [
    {
     "name": "stdout",
     "output_type": "stream",
     "text": [
      "Average claims frequency: 0.06818720098526834\n",
      "Fraction of claims frequency that is Zero 95.13%\n"
     ]
    },
    {
     "data": {
      "text/plain": [
       "<Figure size 1500x500 with 2 Axes>"
      ],
      "image/png": "[encoded data removed]"
     },
     "metadata": {},
     "output_type": "display_data",
     "jetTransient": {
      "display_id": null
     }
    }
   ],
   "execution_count": 4
  },
  {
   "metadata": {
    "ExecuteTime": {
     "end_time": "2025-09-16T21:12:40.281743Z",
     "start_time": "2025-09-16T21:12:40.276164Z"
    }
   },
   "cell_type": "code",
   "source": [
    "mean_claims_frequency = features_trainset['claims_frequency'].mean()\n",
    "var_claims_frequency = features_trainset['claims_frequency'].var()\n",
    "print(f\"Mean of claims_frequency: {mean_claims_frequency :.4f}\")\n",
    "print(f\"Variance of claims_frequency: {var_claims_frequency:.4f}\")"
   ],
   "outputs": [
    {
     "name": "stdout",
     "output_type": "stream",
     "text": [
      "Mean of claims_frequency: 0.0682\n",
      "Variance of claims_frequency: 0.1184\n"
     ]
    }
   ],
   "execution_count": 5
  },
  {
   "metadata": {},
   "cell_type": "markdown",
   "source": "- From the both the histogram and the mean-variance comparison, we can see that the claims frequency is unimodal and rightly skewed, the mean and variance after filling nulls with 0 appear to be reasonably close for this dataset. We can therefore proceed to fit a Poisson regression model."
  },
  {
   "metadata": {
    "ExecuteTime": {
     "end_time": "2025-09-16T21:12:42.066525Z",
     "start_time": "2025-09-16T21:12:42.063394Z"
    }
   },
   "cell_type": "code",
   "source": [
    "training_variables = ['Car_age_years', 'Type_risk', 'Area', 'Value_vehicle', 'Distribution_channel', 'Cylinder_capacity']\n",
    "target = ['claims_frequency']"
   ],
   "outputs": [],
   "execution_count": 6
  },
  {
   "metadata": {
    "ExecuteTime": {
     "end_time": "2025-09-16T21:12:45.534411Z",
     "start_time": "2025-09-16T21:12:45.529231Z"
    }
   },
   "cell_type": "code",
   "source": [
    "from sklearn.metrics import mean_absolute_error,mean_poisson_deviance,mean_squared_error\n",
    "\n",
    "def model_evaluation_metrics(estimator, df_test, target_variable=target, training_variables=training_variables):\n",
    "    \"\"\"Score an estimator on the test set.\"\"\"\n",
    "    y_pred = estimator.predict(df_test[training_variables])\n",
    "\n",
    "    print(\n",
    "        \"MSE: %.3f\"\n",
    "        % mean_squared_error(\n",
    "            df_test[target], y_pred,\n",
    "        )\n",
    "    )\n",
    "    print(\n",
    "        \"MAE: %.3f\"\n",
    "        % mean_absolute_error(\n",
    "            df_test[target], y_pred\n",
    "        )\n",
    "    )\n",
    "\n",
    "    # Ignore non-positive predictions, as they are invalid for\n",
    "    # the Poisson deviance.\n",
    "    mask = y_pred > 0\n",
    "    if (~mask).any():\n",
    "        n_masked, n_samples = (~mask).sum(), mask.shape[0]\n",
    "        print(\n",
    "            \"WARNING: Estimator yields invalid, non-positive predictions \"\n",
    "            f\" for {n_masked} samples out of {n_samples}. These predictions \"\n",
    "            \"are ignored when computing the Poisson deviance.\"\n",
    "        )\n",
    "\n",
    "    print(\n",
    "        \"mean Poisson deviance: %.3f\"\n",
    "        % mean_poisson_deviance(\n",
    "            df_test[target][mask],\n",
    "            y_pred[mask],\n",
    "        )\n",
    "    )\n"
   ],
   "outputs": [],
   "execution_count": 7
  },
  {
   "metadata": {},
   "cell_type": "markdown",
   "source": "#### Model 1 - Baseline Model, Just predicting the mean"
  },
  {
   "metadata": {
    "ExecuteTime": {
     "end_time": "2025-09-16T21:12:47.581836Z",
     "start_time": "2025-09-16T21:12:47.566489Z"
    }
   },
   "cell_type": "code",
   "source": [
    "from sklearn.dummy import DummyRegressor\n",
    "dummy_regressor = DummyRegressor(strategy=\"mean\")\n",
    "baseline_model = dummy_regressor.fit(features_trainset[training_variables], features_trainset[target])\n",
    "print(\"Constant mean frequency evaluation:\")\n",
    "model_evaluation_metrics(estimator=baseline_model, df_test=features_testset, target_variable=target, training_variables=training_variables)"
   ],
   "outputs": [
    {
     "name": "stdout",
     "output_type": "stream",
     "text": [
      "Constant mean frequency evaluation:\n",
      "MSE: 0.132\n",
      "MAE: 0.137\n",
      "mean Poisson deviance: 0.463\n"
     ]
    }
   ],
   "execution_count": 8
  },
  {
   "metadata": {
    "ExecuteTime": {
     "end_time": "2025-09-16T20:34:09.492541Z",
     "start_time": "2025-09-16T20:34:09.481211Z"
    }
   },
   "cell_type": "markdown",
   "source": "#### Model 2 - Ridge Regression"
  },
  {
   "metadata": {
    "ExecuteTime": {
     "end_time": "2025-09-16T21:12:49.579391Z",
     "start_time": "2025-09-16T21:12:49.480009Z"
    }
   },
   "cell_type": "code",
   "source": [
    "from sklearn.linear_model import Ridge\n",
    "ridge_glm = Ridge(alpha=1)\n",
    "ridge_model = ridge_glm.fit(features_trainset[training_variables], features_trainset[target])\n",
    "print(\"Ridge regression evaluation:\")\n",
    "model_evaluation_metrics(estimator=ridge_model, df_test=features_testset, target_variable=target, training_variables=training_variables)"
   ],
   "outputs": [
    {
     "name": "stdout",
     "output_type": "stream",
     "text": [
      "Ridge regression evaluation:\n",
      "MSE: 0.131\n",
      "MAE: 0.137\n",
      "mean Poisson deviance: 0.460\n"
     ]
    }
   ],
   "execution_count": 9
  },
  {
   "metadata": {},
   "cell_type": "markdown",
   "source": "#### Model 3 - Poisson Regression"
  },
  {
   "metadata": {
    "ExecuteTime": {
     "end_time": "2025-09-16T21:14:25.044555Z",
     "start_time": "2025-09-16T21:14:24.991503Z"
    }
   },
   "cell_type": "code",
   "source": [
    "from sklearn.linear_model import PoissonRegressor\n",
    "poisson_regressor = PoissonRegressor(alpha=1e-12, solver='newton-cholesky', max_iter=300)\n",
    "poisson_model = poisson_regressor.fit(features_trainset[training_variables], features_trainset[target].values.ravel())\n",
    "print(\"Poisson regression evaluation:\")\n",
    "model_evaluation_metrics(estimator=poisson_model, df_test=features_testset, target_variable=target, training_variables=training_variables)"
   ],
   "outputs": [
    {
     "name": "stdout",
     "output_type": "stream",
     "text": [
      "Poisson regression evaluation:\n",
      "MSE: 0.131\n",
      "MAE: 0.137\n",
      "mean Poisson deviance: 0.460\n"
     ]
    }
   ],
   "execution_count": 13
  },
  {
   "metadata": {},
   "cell_type": "markdown",
   "source": "#### Model 4 - Gradient Boosting Machine\n"
  },
  {
   "metadata": {
    "ExecuteTime": {
     "end_time": "2025-09-16T21:13:11.860876Z",
     "start_time": "2025-09-16T21:13:11.508626Z"
    }
   },
   "cell_type": "code",
   "source": [
    "from sklearn.ensemble import HistGradientBoostingRegressor\n",
    "gbm_regressor = HistGradientBoostingRegressor(loss='poisson', max_leaf_nodes=128)\n",
    "gbm_model = gbm_regressor.fit(features_trainset[training_variables], features_trainset['claims_frequency'])\n",
    "print(\"GBM regression evaluation:\")\n",
    "model_evaluation_metrics(estimator=gbm_model, df_test=features_testset, target_variable=target, training_variables=training_variables)"
   ],
   "outputs": [
    {
     "name": "stdout",
     "output_type": "stream",
     "text": [
      "GBM regression evaluation:\n",
      "MSE: 0.132\n",
      "MAE: 0.140\n",
      "mean Poisson deviance: 0.461\n"
     ]
    }
   ],
   "execution_count": 12
  },
  {
   "metadata": {},
   "cell_type": "markdown",
   "source": "#TODO: Severity Modelling"
  }
 ],
 "metadata": {
  "kernelspec": {
   "display_name": ".venv",
   "language": "python",
   "name": "python3"
  },
  "language_info": {
   "codemirror_mode": {
    "name": "ipython",
    "version": 3
   },
   "file_extension": ".py",
   "mimetype": "text/x-python",
   "name": "python",
   "nbconvert_exporter": "python",
   "pygments_lexer": "ipython3",
   "version": "3.13.0"
  }
 },
 "nbformat": 4,
 "nbformat_minor": 2
}
