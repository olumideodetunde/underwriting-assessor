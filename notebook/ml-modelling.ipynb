{
 "cells": [
  {
   "cell_type": "markdown",
   "metadata": {},
   "source": "# Modelling"
  },
  {
   "cell_type": "markdown",
   "metadata": {},
   "source": [
    "- Let's attempt to build a frequency vs severity model using both GLM and GBM. Remember that technically `premium = frequency * severity`\n",
    "- Bonus: see if along the way we can use the variable importance to identify key rating factors for both frequency and severity that can be used for risk classification"
   ]
  },
  {
   "cell_type": "markdown",
   "metadata": {},
   "source": "## 001: Create the dataset and split dataset"
  },
  {
   "metadata": {
    "ExecuteTime": {
     "end_time": "2025-09-15T19:01:41.609868Z",
     "start_time": "2025-09-15T19:01:40.742076Z"
    }
   },
   "cell_type": "code",
   "source": [
    "from src.dataset import Dataset\n",
    "\n",
    "\n",
    "insurance_initiation_variables_path = \"../data/input/exp/Insurance_Initiation_Variables.csv\"\n",
    "claims_variables_path = \"../data/input/exp/sample_type_claim.csv\"\n",
    "\n",
    "claim_grouping_columns = ['ID', 'Cost_claims_year']\n",
    "claim_aggregation_column = 'Cost_claims_by_type'\n",
    "merging_columns = ['ID', 'Cost_claims_year']\n",
    "\n",
    "dataset =  (Dataset(data_path=insurance_initiation_variables_path,\n",
    "                              claims_path=claims_variables_path)\n",
    "                      .group_claims(grouping_columns=claim_grouping_columns,aggregation_column=claim_aggregation_column)\n",
    "                      .create_dataset(merge_columns=merging_columns)\n",
    "                     )\n",
    "trainset, testset = dataset.split_dataset(test_ratio=0.2, to_shuffle=False)"
   ],
   "outputs": [],
   "execution_count": 2
  },
  {
   "metadata": {
    "ExecuteTime": {
     "end_time": "2025-09-08T19:34:51.936525Z",
     "start_time": "2025-09-08T19:34:51.933596Z"
    }
   },
   "cell_type": "markdown",
   "source": "## 002: Engineer relevant features"
  },
  {
   "metadata": {
    "ExecuteTime": {
     "end_time": "2025-09-15T19:01:49.606385Z",
     "start_time": "2025-09-15T19:01:43.314125Z"
    }
   },
   "cell_type": "code",
   "source": [
    "from src.feature import  main as feature_main\n",
    "\n",
    "features_trainset = feature_main(trainset)\n",
    "features_testset = feature_main(testset)"
   ],
   "outputs": [],
   "execution_count": 3
  },
  {
   "metadata": {},
   "cell_type": "markdown",
   "source": [
    "## 003: Frequency modelling - Poisson regression\n",
    "\n",
    "The response variable is the number of claims dubbed `claims_frequency` in the dataset. Let's check a few assumptions before we fit a Poisson regression model:\n",
    "\n",
    "1. Distribution of the response variable\n",
    "2. Equidispersion: the mean and variance of the response variable should be roughly equal"
   ]
  },
  {
   "metadata": {
    "ExecuteTime": {
     "end_time": "2025-09-15T19:01:54.231958Z",
     "start_time": "2025-09-15T19:01:54.115546Z"
    }
   },
   "cell_type": "code",
   "source": [
    "import matplotlib.pyplot as plt\n",
    "import seaborn as sns\n",
    "cols = ['claims_frequency']\n",
    "bins = 10\n",
    "fig, axes = plt.subplots(1, len(cols), figsize=(18, 3))\n",
    "if len(cols) == 1:\n",
    "    axes = [axes]\n",
    "for i, col in enumerate(cols):\n",
    "    sns.histplot(data=features_trainset, x=col, bins=bins, kde=False, ax=axes[i])\n",
    "    axes[i].set_title(f\"Distribution of {col}\")\n",
    "plt.tight_layout()"
   ],
   "outputs": [
    {
     "data": {
      "text/plain": [
       "<Figure size 1800x300 with 1 Axes>"
      ],
      "image/png": "[encoded data removed]"
     },
     "metadata": {},
     "output_type": "display_data",
     "jetTransient": {
      "display_id": null
     }
    }
   ],
   "execution_count": 4
  },
  {
   "metadata": {
    "ExecuteTime": {
     "end_time": "2025-09-15T19:02:16.205065Z",
     "start_time": "2025-09-15T19:02:16.196451Z"
    }
   },
   "cell_type": "code",
   "source": [
    "mean_claims_frequency = features_trainset['claims_frequency'].mean()\n",
    "var_claims_frequency = features_trainset['claims_frequency'].var()\n",
    "print(f\"Mean of claims_frequency: {mean_claims_frequency}\")\n",
    "print(f\"Variance of claims_frequency: {var_claims_frequency}\")"
   ],
   "outputs": [
    {
     "name": "stdout",
     "output_type": "stream",
     "text": [
      "Mean of claims_frequency: 1.4002918287937742\n",
      "Variance of claims_frequency: 0.5660714302616024\n"
     ]
    }
   ],
   "execution_count": 5
  },
  {
   "metadata": {},
   "cell_type": "markdown",
   "source": "- From the both the histogram and the mean-variance comparison, we can see that the claims frequency is unimodal and rightly skewed, the mean and variance are not roughly equal (variance is smaller than the mean). This indicates that the data is underdispersed. So lets try to fit a poisson regression model and see how it performs."
  },
  {
   "metadata": {
    "ExecuteTime": {
     "end_time": "2025-09-15T19:36:37.434081Z",
     "start_time": "2025-09-15T19:36:37.426437Z"
    }
   },
   "cell_type": "code",
   "source": "features_trainset.columns",
   "outputs": [
    {
     "data": {
      "text/plain": [
       "Index(['ID', 'Date_birth', 'Date_driving_licence', 'Distribution_channel',\n",
       "       'Premium', 'Cost_claims_year', 'Type_risk', 'Area', 'Second_driver',\n",
       "       'Year_matriculation', 'Power', 'Cylinder_capacity', 'Value_vehicle',\n",
       "       'N_doors', 'Type_fuel', 'Length', 'Weight', 'claims_frequency',\n",
       "       'Date_birth_dt', 'Date_driving_licence_dt', 'power_to_weight',\n",
       "       'Car_age_years', 'Driver_age_years', 'Driver_experience_years'],\n",
       "      dtype='object')"
      ]
     },
     "execution_count": 11,
     "metadata": {},
     "output_type": "execute_result"
    }
   ],
   "execution_count": 11
  },
  {
   "metadata": {
    "ExecuteTime": {
     "end_time": "2025-09-15T19:44:41.160377Z",
     "start_time": "2025-09-15T19:44:41.017190Z"
    }
   },
   "cell_type": "code",
   "source": [
    "training_variables = ['Car_age_years', 'Type_risk', 'claims_frequency', 'Area', 'Value_vehicle', 'Distribution_channel', 'Cylinder_capacity', 'Length', 'N_doors']\n",
    "features_trainset[training_variables].corr()['claims_frequency'].drop('claims_frequency').plot(kind='barh', title='Correlations with Claims Frequency')"
   ],
   "outputs": [
    {
     "data": {
      "text/plain": [
       "<Axes: title={'center': 'Correlations with Claims Frequency'}>"
      ]
     },
     "execution_count": 20,
     "metadata": {},
     "output_type": "execute_result"
    },
    {
     "data": {
      "text/plain": [
       "<Figure size 640x480 with 1 Axes>"
      ],
      "image/png": "[encoded data removed]"
     },
     "metadata": {},
     "output_type": "display_data",
     "jetTransient": {
      "display_id": null
     }
    }
   ],
   "execution_count": 20
  },
  {
   "metadata": {
    "ExecuteTime": {
     "end_time": "2025-09-15T19:56:24.980779Z",
     "start_time": "2025-09-15T19:56:24.946527Z"
    }
   },
   "cell_type": "code",
   "source": [
    "#Fit the poisson regression model using statsmodel formula api\n",
    "from statsmodels.formula.api import poisson\n",
    "poisson_model = poisson('claims_frequency ~ Value_vehicle', data=features_trainset, methods='bfgs')\n",
    "result_1 = poisson_model.fit()\n",
    "print(result_1.summary())"
   ],
   "outputs": [
    {
     "name": "stdout",
     "output_type": "stream",
     "text": [
      "Warning: Maximum number of iterations has been exceeded.\n",
      "         Current function value: 87714087036031927844864.000000\n",
      "         Iterations: 35\n",
      "                          Poisson Regression Results                          \n",
      "==============================================================================\n",
      "Dep. Variable:       claims_frequency   No. Observations:                 4112\n",
      "Model:                        Poisson   Df Residuals:                     4110\n",
      "Method:                           MLE   Df Model:                            1\n",
      "Date:                Mon, 15 Sep 2025   Pseudo R-squ.:              -6.936e+22\n",
      "Time:                        20:56:24   Log-Likelihood:            -3.6068e+26\n",
      "converged:                      False   LL-Null:                       -5199.9\n",
      "Covariance Type:            nonrobust   LLR p-value:                     1.000\n",
      "=================================================================================\n",
      "                    coef    std err          z      P>|z|      [0.025      0.975]\n",
      "---------------------------------------------------------------------------------\n",
      "Intercept       -34.6633   1.11e-11  -3.13e+12      0.000     -34.663     -34.663\n",
      "Value_vehicle     0.0010   1.16e-16   8.61e+12      0.000       0.001       0.001\n",
      "=================================================================================\n"
     ]
    },
    {
     "name": "stderr",
     "output_type": "stream",
     "text": [
      "/Users/olumide/Library/CloudStorage/OneDrive-Personal/Documents/Research/Project 1/underwriting assessor/.venv/lib/python3.13/site-packages/statsmodels/base/model.py:130: ValueWarning: unknown kwargs ['methods']\n",
      "  warnings.warn(msg, ValueWarning)\n",
      "/Users/olumide/Library/CloudStorage/OneDrive-Personal/Documents/Research/Project 1/underwriting assessor/.venv/lib/python3.13/site-packages/statsmodels/base/model.py:607: ConvergenceWarning: Maximum Likelihood optimization failed to converge. Check mle_retvals\n",
      "  warnings.warn(\"Maximum Likelihood optimization failed to \"\n",
      "/Users/olumide/Library/CloudStorage/OneDrive-Personal/Documents/Research/Project 1/underwriting assessor/.venv/lib/python3.13/site-packages/statsmodels/base/model.py:130: ValueWarning: unknown kwargs ['methods']\n",
      "  warnings.warn(msg, ValueWarning)\n"
     ]
    }
   ],
   "execution_count": 35
  },
  {
   "metadata": {
    "ExecuteTime": {
     "end_time": "2025-09-15T20:04:40.214711Z",
     "start_time": "2025-09-15T20:03:27.391858Z"
    }
   },
   "cell_type": "code",
   "source": [
    " #Fit the poisson model using discrete Generalized Poisson model from statsmodels\n",
    "from statsmodels.discrete.discrete_model import GeneralizedPoisson\n",
    "generalised_poisson_model = GeneralizedPoisson(endog=features_trainset['claims_frequency'], exog=features_trainset[['Driver_age_years', 'Driver_experience_years', 'Car_age_years', 'power_to_weight', 'Type_risk']], p=2).fit(method='nm')\n",
    "print(generalised_poisson_model.summary())"
   ],
   "outputs": [
    {
     "name": "stderr",
     "output_type": "stream",
     "text": [
      "/Users/olumide/Library/CloudStorage/OneDrive-Personal/Documents/Research/Project 1/underwriting assessor/.venv/lib/python3.13/site-packages/statsmodels/base/optimizer.py:737: RuntimeWarning: Maximum number of iterations has been exceeded.\n",
      "  retvals = optimize.fmin(f, start_params, args=fargs, xtol=xtol,\n",
      "/Users/olumide/Library/CloudStorage/OneDrive-Personal/Documents/Research/Project 1/underwriting assessor/.venv/lib/python3.13/site-packages/statsmodels/base/model.py:595: HessianInversionWarning: Inverting hessian failed, no bse or cov_params available\n",
      "  warnings.warn('Inverting hessian failed, no bse or cov_params '\n",
      "/Users/olumide/Library/CloudStorage/OneDrive-Personal/Documents/Research/Project 1/underwriting assessor/.venv/lib/python3.13/site-packages/statsmodels/base/model.py:607: ConvergenceWarning: Maximum Likelihood optimization failed to converge. Check mle_retvals\n",
      "  warnings.warn(\"Maximum Likelihood optimization failed to \"\n"
     ]
    },
    {
     "name": "stdout",
     "output_type": "stream",
     "text": [
      "                    GeneralizedPoisson Regression Results                     \n",
      "==============================================================================\n",
      "Dep. Variable:       claims_frequency   No. Observations:                84444\n",
      "Model:             GeneralizedPoisson   Df Residuals:                    84439\n",
      "Method:                           MLE   Df Model:                            4\n",
      "Date:                Mon, 15 Sep 2025   Pseudo R-squ.:                     nan\n",
      "Time:                        21:04:40   Log-Likelihood:                    nan\n",
      "converged:                      False   LL-Null:                           nan\n",
      "Covariance Type:            nonrobust   LLR p-value:                       nan\n",
      "===========================================================================================\n",
      "                              coef    std err          z      P>|z|      [0.025      0.975]\n",
      "-------------------------------------------------------------------------------------------\n",
      "Driver_age_years               nan        nan        nan        nan         nan         nan\n",
      "Driver_experience_years        nan        nan        nan        nan         nan         nan\n",
      "Car_age_years                  nan        nan        nan        nan         nan         nan\n",
      "power_to_weight                nan        nan        nan        nan         nan         nan\n",
      "Type_risk                      nan        nan        nan        nan         nan         nan\n",
      "alpha                      -0.1000        nan        nan        nan         nan         nan\n",
      "===========================================================================================\n"
     ]
    },
    {
     "name": "stderr",
     "output_type": "stream",
     "text": [
      "/Users/olumide/Library/CloudStorage/OneDrive-Personal/Documents/Research/Project 1/underwriting assessor/.venv/lib/python3.13/site-packages/statsmodels/base/model.py:595: HessianInversionWarning: Inverting hessian failed, no bse or cov_params available\n",
      "  warnings.warn('Inverting hessian failed, no bse or cov_params '\n",
      "/Users/olumide/Library/CloudStorage/OneDrive-Personal/Documents/Research/Project 1/underwriting assessor/.venv/lib/python3.13/site-packages/statsmodels/base/model.py:595: HessianInversionWarning: Inverting hessian failed, no bse or cov_params available\n",
      "  warnings.warn('Inverting hessian failed, no bse or cov_params '\n"
     ]
    }
   ],
   "execution_count": 36
  },
  {
   "metadata": {
    "ExecuteTime": {
     "end_time": "2025-09-15T19:51:53.087670Z",
     "start_time": "2025-09-15T19:51:52.964663Z"
    }
   },
   "cell_type": "code",
   "source": [
    "#TODO: interpret the model results and look into evaluation metrics\n",
    "import numpy as np\n",
    "from sklearn.metrics import mean_absolute_error, mean_squared_error, r2_score\n",
    "\n",
    "# Generate predictions on the test set\n",
    "y_pred = result_1.predict(features_testset)\n",
    "y_true = features_testset['claims_frequency'].fillna(0)\n",
    "\n",
    "# Calculate evaluation metrics\n",
    "mae = mean_absolute_error(y_true, y_pred)\n",
    "rmse = np.sqrt(mean_squared_error(y_true, y_pred))\n",
    "r2 = r2_score(y_true, y_pred)\n",
    "\n",
    "# Display results\n",
    "print(\"Poisson Model Evaluation on Test Set:\")\n",
    "print(\"=\" * 40)\n",
    "print(f\"MAE (Mean Absolute Error): {mae:.4f}\")\n",
    "print(f\"RMSE (Root Mean Square Error): {rmse:.4f}\")\n",
    "print(f\"R² (R-squared): {r2:.4f}\")"
   ],
   "outputs": [
    {
     "name": "stderr",
     "output_type": "stream",
     "text": [
      "/Users/olumide/Library/CloudStorage/OneDrive-Personal/Documents/Research/Project 1/underwriting assessor/.venv/lib/python3.13/site-packages/statsmodels/discrete/discrete_model.py:1074: RuntimeWarning: overflow encountered in exp\n",
      "  return np.exp(linpred)\n"
     ]
    },
    {
     "ename": "ValueError",
     "evalue": "Input contains NaN.",
     "output_type": "error",
     "traceback": [
      "\u001B[31m---------------------------------------------------------------------------\u001B[39m",
      "\u001B[31mValueError\u001B[39m                                Traceback (most recent call last)",
      "\u001B[36mCell\u001B[39m\u001B[36m \u001B[39m\u001B[32mIn[30]\u001B[39m\u001B[32m, line 10\u001B[39m\n\u001B[32m      7\u001B[39m y_true = features_testset[\u001B[33m'\u001B[39m\u001B[33mclaims_frequency\u001B[39m\u001B[33m'\u001B[39m].fillna(\u001B[32m0\u001B[39m)\n\u001B[32m      9\u001B[39m \u001B[38;5;66;03m# Calculate evaluation metrics\u001B[39;00m\n\u001B[32m---> \u001B[39m\u001B[32m10\u001B[39m mae = \u001B[43mmean_absolute_error\u001B[49m\u001B[43m(\u001B[49m\u001B[43my_true\u001B[49m\u001B[43m,\u001B[49m\u001B[43m \u001B[49m\u001B[43my_pred\u001B[49m\u001B[43m)\u001B[49m\n\u001B[32m     11\u001B[39m rmse = np.sqrt(mean_squared_error(y_true, y_pred))\n\u001B[32m     12\u001B[39m r2 = r2_score(y_true, y_pred)\n",
      "\u001B[36mFile \u001B[39m\u001B[32m/Users/olumide/Library/CloudStorage/OneDrive-Personal/Documents/Research/Project 1/underwriting assessor/.venv/lib/python3.13/site-packages/sklearn/utils/_param_validation.py:218\u001B[39m, in \u001B[36mvalidate_params.<locals>.decorator.<locals>.wrapper\u001B[39m\u001B[34m(*args, **kwargs)\u001B[39m\n\u001B[32m    212\u001B[39m \u001B[38;5;28;01mtry\u001B[39;00m:\n\u001B[32m    213\u001B[39m     \u001B[38;5;28;01mwith\u001B[39;00m config_context(\n\u001B[32m    214\u001B[39m         skip_parameter_validation=(\n\u001B[32m    215\u001B[39m             prefer_skip_nested_validation \u001B[38;5;129;01mor\u001B[39;00m global_skip_validation\n\u001B[32m    216\u001B[39m         )\n\u001B[32m    217\u001B[39m     ):\n\u001B[32m--> \u001B[39m\u001B[32m218\u001B[39m         \u001B[38;5;28;01mreturn\u001B[39;00m \u001B[43mfunc\u001B[49m\u001B[43m(\u001B[49m\u001B[43m*\u001B[49m\u001B[43margs\u001B[49m\u001B[43m,\u001B[49m\u001B[43m \u001B[49m\u001B[43m*\u001B[49m\u001B[43m*\u001B[49m\u001B[43mkwargs\u001B[49m\u001B[43m)\u001B[49m\n\u001B[32m    219\u001B[39m \u001B[38;5;28;01mexcept\u001B[39;00m InvalidParameterError \u001B[38;5;28;01mas\u001B[39;00m e:\n\u001B[32m    220\u001B[39m     \u001B[38;5;66;03m# When the function is just a wrapper around an estimator, we allow\u001B[39;00m\n\u001B[32m    221\u001B[39m     \u001B[38;5;66;03m# the function to delegate validation to the estimator, but we replace\u001B[39;00m\n\u001B[32m    222\u001B[39m     \u001B[38;5;66;03m# the name of the estimator by the name of the function in the error\u001B[39;00m\n\u001B[32m    223\u001B[39m     \u001B[38;5;66;03m# message to avoid confusion.\u001B[39;00m\n\u001B[32m    224\u001B[39m     msg = re.sub(\n\u001B[32m    225\u001B[39m         \u001B[33mr\u001B[39m\u001B[33m\"\u001B[39m\u001B[33mparameter of \u001B[39m\u001B[33m\\\u001B[39m\u001B[33mw+ must be\u001B[39m\u001B[33m\"\u001B[39m,\n\u001B[32m    226\u001B[39m         \u001B[33mf\u001B[39m\u001B[33m\"\u001B[39m\u001B[33mparameter of \u001B[39m\u001B[38;5;132;01m{\u001B[39;00mfunc.\u001B[34m__qualname__\u001B[39m\u001B[38;5;132;01m}\u001B[39;00m\u001B[33m must be\u001B[39m\u001B[33m\"\u001B[39m,\n\u001B[32m    227\u001B[39m         \u001B[38;5;28mstr\u001B[39m(e),\n\u001B[32m    228\u001B[39m     )\n",
      "\u001B[36mFile \u001B[39m\u001B[32m/Users/olumide/Library/CloudStorage/OneDrive-Personal/Documents/Research/Project 1/underwriting assessor/.venv/lib/python3.13/site-packages/sklearn/metrics/_regression.py:284\u001B[39m, in \u001B[36mmean_absolute_error\u001B[39m\u001B[34m(y_true, y_pred, sample_weight, multioutput)\u001B[39m\n\u001B[32m    228\u001B[39m \u001B[38;5;250m\u001B[39m\u001B[33;03m\"\"\"Mean absolute error regression loss.\u001B[39;00m\n\u001B[32m    229\u001B[39m \n\u001B[32m    230\u001B[39m \u001B[33;03mThe mean absolute error is a non-negative floating point value, where best value\u001B[39;00m\n\u001B[32m   (...)\u001B[39m\u001B[32m    279\u001B[39m \u001B[33;03m0.85...\u001B[39;00m\n\u001B[32m    280\u001B[39m \u001B[33;03m\"\"\"\u001B[39;00m\n\u001B[32m    281\u001B[39m xp, _ = get_namespace(y_true, y_pred, sample_weight, multioutput)\n\u001B[32m    283\u001B[39m _, y_true, y_pred, sample_weight, multioutput = (\n\u001B[32m--> \u001B[39m\u001B[32m284\u001B[39m     \u001B[43m_check_reg_targets_with_floating_dtype\u001B[49m\u001B[43m(\u001B[49m\n\u001B[32m    285\u001B[39m \u001B[43m        \u001B[49m\u001B[43my_true\u001B[49m\u001B[43m,\u001B[49m\u001B[43m \u001B[49m\u001B[43my_pred\u001B[49m\u001B[43m,\u001B[49m\u001B[43m \u001B[49m\u001B[43msample_weight\u001B[49m\u001B[43m,\u001B[49m\u001B[43m \u001B[49m\u001B[43mmultioutput\u001B[49m\u001B[43m,\u001B[49m\u001B[43m \u001B[49m\u001B[43mxp\u001B[49m\u001B[43m=\u001B[49m\u001B[43mxp\u001B[49m\n\u001B[32m    286\u001B[39m \u001B[43m    \u001B[49m\u001B[43m)\u001B[49m\n\u001B[32m    287\u001B[39m )\n\u001B[32m    289\u001B[39m output_errors = _average(\n\u001B[32m    290\u001B[39m     xp.abs(y_pred - y_true), weights=sample_weight, axis=\u001B[32m0\u001B[39m, xp=xp\n\u001B[32m    291\u001B[39m )\n\u001B[32m    292\u001B[39m \u001B[38;5;28;01mif\u001B[39;00m \u001B[38;5;28misinstance\u001B[39m(multioutput, \u001B[38;5;28mstr\u001B[39m):\n",
      "\u001B[36mFile \u001B[39m\u001B[32m/Users/olumide/Library/CloudStorage/OneDrive-Personal/Documents/Research/Project 1/underwriting assessor/.venv/lib/python3.13/site-packages/sklearn/metrics/_regression.py:209\u001B[39m, in \u001B[36m_check_reg_targets_with_floating_dtype\u001B[39m\u001B[34m(y_true, y_pred, sample_weight, multioutput, xp)\u001B[39m\n\u001B[32m    160\u001B[39m \u001B[38;5;250m\u001B[39m\u001B[33;03m\"\"\"Ensures y_true, y_pred, and sample_weight correspond to same regression task.\u001B[39;00m\n\u001B[32m    161\u001B[39m \n\u001B[32m    162\u001B[39m \u001B[33;03mExtends `_check_reg_targets` by automatically selecting a suitable floating-point\u001B[39;00m\n\u001B[32m   (...)\u001B[39m\u001B[32m    205\u001B[39m \u001B[33;03m    correct keyword.\u001B[39;00m\n\u001B[32m    206\u001B[39m \u001B[33;03m\"\"\"\u001B[39;00m\n\u001B[32m    207\u001B[39m dtype_name = _find_matching_floating_dtype(y_true, y_pred, sample_weight, xp=xp)\n\u001B[32m--> \u001B[39m\u001B[32m209\u001B[39m y_type, y_true, y_pred, sample_weight, multioutput = \u001B[43m_check_reg_targets\u001B[49m\u001B[43m(\u001B[49m\n\u001B[32m    210\u001B[39m \u001B[43m    \u001B[49m\u001B[43my_true\u001B[49m\u001B[43m,\u001B[49m\u001B[43m \u001B[49m\u001B[43my_pred\u001B[49m\u001B[43m,\u001B[49m\u001B[43m \u001B[49m\u001B[43msample_weight\u001B[49m\u001B[43m,\u001B[49m\u001B[43m \u001B[49m\u001B[43mmultioutput\u001B[49m\u001B[43m,\u001B[49m\u001B[43m \u001B[49m\u001B[43mdtype\u001B[49m\u001B[43m=\u001B[49m\u001B[43mdtype_name\u001B[49m\u001B[43m,\u001B[49m\u001B[43m \u001B[49m\u001B[43mxp\u001B[49m\u001B[43m=\u001B[49m\u001B[43mxp\u001B[49m\n\u001B[32m    211\u001B[39m \u001B[43m\u001B[49m\u001B[43m)\u001B[49m\n\u001B[32m    213\u001B[39m \u001B[38;5;28;01mreturn\u001B[39;00m y_type, y_true, y_pred, sample_weight, multioutput\n",
      "\u001B[36mFile \u001B[39m\u001B[32m/Users/olumide/Library/CloudStorage/OneDrive-Personal/Documents/Research/Project 1/underwriting assessor/.venv/lib/python3.13/site-packages/sklearn/metrics/_regression.py:116\u001B[39m, in \u001B[36m_check_reg_targets\u001B[39m\u001B[34m(y_true, y_pred, sample_weight, multioutput, dtype, xp)\u001B[39m\n\u001B[32m    114\u001B[39m check_consistent_length(y_true, y_pred, sample_weight)\n\u001B[32m    115\u001B[39m y_true = check_array(y_true, ensure_2d=\u001B[38;5;28;01mFalse\u001B[39;00m, dtype=dtype)\n\u001B[32m--> \u001B[39m\u001B[32m116\u001B[39m y_pred = \u001B[43mcheck_array\u001B[49m\u001B[43m(\u001B[49m\u001B[43my_pred\u001B[49m\u001B[43m,\u001B[49m\u001B[43m \u001B[49m\u001B[43mensure_2d\u001B[49m\u001B[43m=\u001B[49m\u001B[38;5;28;43;01mFalse\u001B[39;49;00m\u001B[43m,\u001B[49m\u001B[43m \u001B[49m\u001B[43mdtype\u001B[49m\u001B[43m=\u001B[49m\u001B[43mdtype\u001B[49m\u001B[43m)\u001B[49m\n\u001B[32m    117\u001B[39m \u001B[38;5;28;01mif\u001B[39;00m sample_weight \u001B[38;5;129;01mis\u001B[39;00m \u001B[38;5;129;01mnot\u001B[39;00m \u001B[38;5;28;01mNone\u001B[39;00m:\n\u001B[32m    118\u001B[39m     sample_weight = _check_sample_weight(sample_weight, y_true, dtype=dtype)\n",
      "\u001B[36mFile \u001B[39m\u001B[32m/Users/olumide/Library/CloudStorage/OneDrive-Personal/Documents/Research/Project 1/underwriting assessor/.venv/lib/python3.13/site-packages/sklearn/utils/validation.py:1105\u001B[39m, in \u001B[36mcheck_array\u001B[39m\u001B[34m(array, accept_sparse, accept_large_sparse, dtype, order, copy, force_writeable, force_all_finite, ensure_all_finite, ensure_non_negative, ensure_2d, allow_nd, ensure_min_samples, ensure_min_features, estimator, input_name)\u001B[39m\n\u001B[32m   1099\u001B[39m     \u001B[38;5;28;01mraise\u001B[39;00m \u001B[38;5;167;01mValueError\u001B[39;00m(\n\u001B[32m   1100\u001B[39m         \u001B[33mf\u001B[39m\u001B[33m\"\u001B[39m\u001B[33mFound array with dim \u001B[39m\u001B[38;5;132;01m{\u001B[39;00marray.ndim\u001B[38;5;132;01m}\u001B[39;00m\u001B[33m,\u001B[39m\u001B[33m\"\u001B[39m\n\u001B[32m   1101\u001B[39m         \u001B[33mf\u001B[39m\u001B[33m\"\u001B[39m\u001B[33m while dim <= 2 is required\u001B[39m\u001B[38;5;132;01m{\u001B[39;00mcontext\u001B[38;5;132;01m}\u001B[39;00m\u001B[33m.\u001B[39m\u001B[33m\"\u001B[39m\n\u001B[32m   1102\u001B[39m     )\n\u001B[32m   1104\u001B[39m \u001B[38;5;28;01mif\u001B[39;00m ensure_all_finite:\n\u001B[32m-> \u001B[39m\u001B[32m1105\u001B[39m     \u001B[43m_assert_all_finite\u001B[49m\u001B[43m(\u001B[49m\n\u001B[32m   1106\u001B[39m \u001B[43m        \u001B[49m\u001B[43marray\u001B[49m\u001B[43m,\u001B[49m\n\u001B[32m   1107\u001B[39m \u001B[43m        \u001B[49m\u001B[43minput_name\u001B[49m\u001B[43m=\u001B[49m\u001B[43minput_name\u001B[49m\u001B[43m,\u001B[49m\n\u001B[32m   1108\u001B[39m \u001B[43m        \u001B[49m\u001B[43mestimator_name\u001B[49m\u001B[43m=\u001B[49m\u001B[43mestimator_name\u001B[49m\u001B[43m,\u001B[49m\n\u001B[32m   1109\u001B[39m \u001B[43m        \u001B[49m\u001B[43mallow_nan\u001B[49m\u001B[43m=\u001B[49m\u001B[43mensure_all_finite\u001B[49m\u001B[43m \u001B[49m\u001B[43m==\u001B[49m\u001B[43m \u001B[49m\u001B[33;43m\"\u001B[39;49m\u001B[33;43mallow-nan\u001B[39;49m\u001B[33;43m\"\u001B[39;49m\u001B[43m,\u001B[49m\n\u001B[32m   1110\u001B[39m \u001B[43m    \u001B[49m\u001B[43m)\u001B[49m\n\u001B[32m   1112\u001B[39m \u001B[38;5;28;01mif\u001B[39;00m copy:\n\u001B[32m   1113\u001B[39m     \u001B[38;5;28;01mif\u001B[39;00m _is_numpy_namespace(xp):\n\u001B[32m   1114\u001B[39m         \u001B[38;5;66;03m# only make a copy if `array` and `array_orig` may share memory`\u001B[39;00m\n",
      "\u001B[36mFile \u001B[39m\u001B[32m/Users/olumide/Library/CloudStorage/OneDrive-Personal/Documents/Research/Project 1/underwriting assessor/.venv/lib/python3.13/site-packages/sklearn/utils/validation.py:120\u001B[39m, in \u001B[36m_assert_all_finite\u001B[39m\u001B[34m(X, allow_nan, msg_dtype, estimator_name, input_name)\u001B[39m\n\u001B[32m    117\u001B[39m \u001B[38;5;28;01mif\u001B[39;00m first_pass_isfinite:\n\u001B[32m    118\u001B[39m     \u001B[38;5;28;01mreturn\u001B[39;00m\n\u001B[32m--> \u001B[39m\u001B[32m120\u001B[39m \u001B[43m_assert_all_finite_element_wise\u001B[49m\u001B[43m(\u001B[49m\n\u001B[32m    121\u001B[39m \u001B[43m    \u001B[49m\u001B[43mX\u001B[49m\u001B[43m,\u001B[49m\n\u001B[32m    122\u001B[39m \u001B[43m    \u001B[49m\u001B[43mxp\u001B[49m\u001B[43m=\u001B[49m\u001B[43mxp\u001B[49m\u001B[43m,\u001B[49m\n\u001B[32m    123\u001B[39m \u001B[43m    \u001B[49m\u001B[43mallow_nan\u001B[49m\u001B[43m=\u001B[49m\u001B[43mallow_nan\u001B[49m\u001B[43m,\u001B[49m\n\u001B[32m    124\u001B[39m \u001B[43m    \u001B[49m\u001B[43mmsg_dtype\u001B[49m\u001B[43m=\u001B[49m\u001B[43mmsg_dtype\u001B[49m\u001B[43m,\u001B[49m\n\u001B[32m    125\u001B[39m \u001B[43m    \u001B[49m\u001B[43mestimator_name\u001B[49m\u001B[43m=\u001B[49m\u001B[43mestimator_name\u001B[49m\u001B[43m,\u001B[49m\n\u001B[32m    126\u001B[39m \u001B[43m    \u001B[49m\u001B[43minput_name\u001B[49m\u001B[43m=\u001B[49m\u001B[43minput_name\u001B[49m\u001B[43m,\u001B[49m\n\u001B[32m    127\u001B[39m \u001B[43m\u001B[49m\u001B[43m)\u001B[49m\n",
      "\u001B[36mFile \u001B[39m\u001B[32m/Users/olumide/Library/CloudStorage/OneDrive-Personal/Documents/Research/Project 1/underwriting assessor/.venv/lib/python3.13/site-packages/sklearn/utils/validation.py:169\u001B[39m, in \u001B[36m_assert_all_finite_element_wise\u001B[39m\u001B[34m(X, xp, allow_nan, msg_dtype, estimator_name, input_name)\u001B[39m\n\u001B[32m    152\u001B[39m \u001B[38;5;28;01mif\u001B[39;00m estimator_name \u001B[38;5;129;01mand\u001B[39;00m input_name == \u001B[33m\"\u001B[39m\u001B[33mX\u001B[39m\u001B[33m\"\u001B[39m \u001B[38;5;129;01mand\u001B[39;00m has_nan_error:\n\u001B[32m    153\u001B[39m     \u001B[38;5;66;03m# Improve the error message on how to handle missing values in\u001B[39;00m\n\u001B[32m    154\u001B[39m     \u001B[38;5;66;03m# scikit-learn.\u001B[39;00m\n\u001B[32m    155\u001B[39m     msg_err += (\n\u001B[32m    156\u001B[39m         \u001B[33mf\u001B[39m\u001B[33m\"\u001B[39m\u001B[38;5;130;01m\\n\u001B[39;00m\u001B[38;5;132;01m{\u001B[39;00mestimator_name\u001B[38;5;132;01m}\u001B[39;00m\u001B[33m does not accept missing values\u001B[39m\u001B[33m\"\u001B[39m\n\u001B[32m    157\u001B[39m         \u001B[33m\"\u001B[39m\u001B[33m encoded as NaN natively. For supervised learning, you might want\u001B[39m\u001B[33m\"\u001B[39m\n\u001B[32m   (...)\u001B[39m\u001B[32m    167\u001B[39m         \u001B[33m\"\u001B[39m\u001B[33m#estimators-that-handle-nan-values\u001B[39m\u001B[33m\"\u001B[39m\n\u001B[32m    168\u001B[39m     )\n\u001B[32m--> \u001B[39m\u001B[32m169\u001B[39m \u001B[38;5;28;01mraise\u001B[39;00m \u001B[38;5;167;01mValueError\u001B[39;00m(msg_err)\n",
      "\u001B[31mValueError\u001B[39m: Input contains NaN."
     ]
    }
   ],
   "execution_count": 30
  }
 ],
 "metadata": {
  "kernelspec": {
   "display_name": ".venv",
   "language": "python",
   "name": "python3"
  },
  "language_info": {
   "codemirror_mode": {
    "name": "ipython",
    "version": 3
   },
   "file_extension": ".py",
   "mimetype": "text/x-python",
   "name": "python",
   "nbconvert_exporter": "python",
   "pygments_lexer": "ipython3",
   "version": "3.13.0"
  }
 },
 "nbformat": 4,
 "nbformat_minor": 2
}
